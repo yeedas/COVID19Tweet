{
  "nbformat": 4,
  "nbformat_minor": 0,
  "metadata": {
    "colab": {
      "name": "Covid19_Tweet_classification.ipynb",
      "provenance": [],
      "collapsed_sections": [],
      "authorship_tag": "ABX9TyNFAEzTJNO+W2MQxZExAPMl",
      "include_colab_link": true
    },
    "kernelspec": {
      "name": "python3",
      "display_name": "Python 3"
    }
  },
  "cells": [
    {
      "cell_type": "markdown",
      "metadata": {
        "id": "view-in-github",
        "colab_type": "text"
      },
      "source": [
        "<a href=\"https://colab.research.google.com/github/yeedas/COVID19Tweet/blob/master/Covid19_Tweet_classification.ipynb\" target=\"_parent\"><img src=\"https://colab.research.google.com/assets/colab-badge.svg\" alt=\"Open In Colab\"/></a>"
      ]
    },
    {
      "cell_type": "code",
      "metadata": {
        "id": "6oc6_JSzgu0X",
        "colab_type": "code",
        "colab": {}
      },
      "source": [
        "from google.colab import drive"
      ],
      "execution_count": 1,
      "outputs": []
    },
    {
      "cell_type": "code",
      "metadata": {
        "id": "MNs3sT37g6SI",
        "colab_type": "code",
        "colab": {
          "base_uri": "https://localhost:8080/",
          "height": 124
        },
        "outputId": "42328a9d-2984-4b19-b34f-c87c00dc6d71"
      },
      "source": [
        "drive.mount('/content/drive/')"
      ],
      "execution_count": 2,
      "outputs": [
        {
          "output_type": "stream",
          "text": [
            "Go to this URL in a browser: https://accounts.google.com/o/oauth2/auth?client_id=947318989803-6bn6qk8qdgf4n4g3pfee6491hc0brc4i.apps.googleusercontent.com&redirect_uri=urn%3aietf%3awg%3aoauth%3a2.0%3aoob&scope=email%20https%3a%2f%2fwww.googleapis.com%2fauth%2fdocs.test%20https%3a%2f%2fwww.googleapis.com%2fauth%2fdrive%20https%3a%2f%2fwww.googleapis.com%2fauth%2fdrive.photos.readonly%20https%3a%2f%2fwww.googleapis.com%2fauth%2fpeopleapi.readonly&response_type=code\n",
            "\n",
            "Enter your authorization code:\n",
            "··········\n",
            "Mounted at /content/drive/\n"
          ],
          "name": "stdout"
        }
      ]
    },
    {
      "cell_type": "code",
      "metadata": {
        "id": "pSxlYngSg7mq",
        "colab_type": "code",
        "colab": {}
      },
      "source": [
        "project_path = \"/content/drive/My Drive/DLCP/NLP/covid tweet/\"\n",
        "GLOVE_PATH = \"/content/drive/My Drive/Fake News Challenge/\""
      ],
      "execution_count": 3,
      "outputs": []
    },
    {
      "cell_type": "code",
      "metadata": {
        "id": "eCF3_2oihBgi",
        "colab_type": "code",
        "colab": {}
      },
      "source": [
        "from zipfile import ZipFile\n",
        "with ZipFile(GLOVE_PATH+'glove.6B.zip', 'r') as z:\n",
        "  z.extractall()"
      ],
      "execution_count": 4,
      "outputs": []
    },
    {
      "cell_type": "code",
      "metadata": {
        "id": "HNBn-X1LhFd5",
        "colab_type": "code",
        "colab": {
          "base_uri": "https://localhost:8080/",
          "height": 277
        },
        "outputId": "040e2030-04b1-430d-8795-77244f9fbbc7"
      },
      "source": [
        "import os\n",
        "import pandas as pd\n",
        "#Load train bodies\n",
        "train_path = os.path.join(project_path,'train.tsv')\n",
        "print(train_path)\n",
        "df1 = pd.read_csv(train_path,sep='\\t')\n",
        "#print(train_text.head)\n",
        "#df1 = train_text[\"Text\"]\n",
        "print(df1)\n",
        "texts = []\n",
        "#count = df1.count()\n",
        "\n",
        "#for i in range (0,count):\n",
        "  #texts.append(df1[i])"
      ],
      "execution_count": 41,
      "outputs": [
        {
          "output_type": "stream",
          "text": [
            "/content/drive/My Drive/DLCP/NLP/covid tweet/train.tsv\n",
            "                       Id  ...          Label\n",
            "0     1241490299215634434  ...    INFORMATIVE\n",
            "1     1245916400981381130  ...    INFORMATIVE\n",
            "2     1241132432402849793  ...    INFORMATIVE\n",
            "3     1236107253666607104  ...    INFORMATIVE\n",
            "4     1239673817552879619  ...  UNINFORMATIVE\n",
            "...                   ...  ...            ...\n",
            "6931  1241325232415105025  ...  UNINFORMATIVE\n",
            "6932  1235624084089778176  ...    INFORMATIVE\n",
            "6933  1246018213995044870  ...  UNINFORMATIVE\n",
            "6934  1239750367329439744  ...  UNINFORMATIVE\n",
            "6935  1241528434624327680  ...  UNINFORMATIVE\n",
            "\n",
            "[6936 rows x 3 columns]\n"
          ],
          "name": "stdout"
        }
      ]
    },
    {
      "cell_type": "code",
      "metadata": {
        "id": "haulmKT-nqqC",
        "colab_type": "code",
        "colab": {}
      },
      "source": [
        "\n",
        "df1.Text = df1.Text.str.lower()"
      ],
      "execution_count": 42,
      "outputs": []
    },
    {
      "cell_type": "markdown",
      "metadata": {
        "id": "G9KsOE_OShfg",
        "colab_type": "text"
      },
      "source": [
        "Preprocessing the data"
      ]
    },
    {
      "cell_type": "code",
      "metadata": {
        "id": "eY55UTgQSfmc",
        "colab_type": "code",
        "colab": {}
      },
      "source": [
        "# Removing http tags\n",
        "df1.Text = df1.Text.str.replace(r'http(\\S)+', r'')\n",
        "df1.Text = df1.Text.str.replace(r'http ...', r'')"
      ],
      "execution_count": 43,
      "outputs": []
    },
    {
      "cell_type": "code",
      "metadata": {
        "id": "MaS9oA_lhI99",
        "colab_type": "code",
        "colab": {
          "base_uri": "https://localhost:8080/",
          "height": 415
        },
        "outputId": "6513a539-e827-4b8d-f66a-7ca34cb71b86"
      },
      "source": [
        "df1"
      ],
      "execution_count": 29,
      "outputs": [
        {
          "output_type": "execute_result",
          "data": {
            "text/html": [
              "<div>\n",
              "<style scoped>\n",
              "    .dataframe tbody tr th:only-of-type {\n",
              "        vertical-align: middle;\n",
              "    }\n",
              "\n",
              "    .dataframe tbody tr th {\n",
              "        vertical-align: top;\n",
              "    }\n",
              "\n",
              "    .dataframe thead th {\n",
              "        text-align: right;\n",
              "    }\n",
              "</style>\n",
              "<table border=\"1\" class=\"dataframe\">\n",
              "  <thead>\n",
              "    <tr style=\"text-align: right;\">\n",
              "      <th></th>\n",
              "      <th>Id</th>\n",
              "      <th>Text</th>\n",
              "      <th>Label</th>\n",
              "    </tr>\n",
              "  </thead>\n",
              "  <tbody>\n",
              "    <tr>\n",
              "      <th>0</th>\n",
              "      <td>1241490299215634434</td>\n",
              "      <td>Official death toll from #covid19 in the Unite...</td>\n",
              "      <td>INFORMATIVE</td>\n",
              "    </tr>\n",
              "    <tr>\n",
              "      <th>1</th>\n",
              "      <td>1245916400981381130</td>\n",
              "      <td>Dearest Mr. President @USER 1,169 coronavirus ...</td>\n",
              "      <td>INFORMATIVE</td>\n",
              "    </tr>\n",
              "    <tr>\n",
              "      <th>2</th>\n",
              "      <td>1241132432402849793</td>\n",
              "      <td>Latest Updates March 20 ⚠️5274 new cases and 3...</td>\n",
              "      <td>INFORMATIVE</td>\n",
              "    </tr>\n",
              "    <tr>\n",
              "      <th>3</th>\n",
              "      <td>1236107253666607104</td>\n",
              "      <td>真把公主不当干部 BREAKING: 21 people on Grand Princess...</td>\n",
              "      <td>INFORMATIVE</td>\n",
              "    </tr>\n",
              "    <tr>\n",
              "      <th>4</th>\n",
              "      <td>1239673817552879619</td>\n",
              "      <td>OKLAHOMA CITY — The State Department of Educat...</td>\n",
              "      <td>UNINFORMATIVE</td>\n",
              "    </tr>\n",
              "    <tr>\n",
              "      <th>...</th>\n",
              "      <td>...</td>\n",
              "      <td>...</td>\n",
              "      <td>...</td>\n",
              "    </tr>\n",
              "    <tr>\n",
              "      <th>6931</th>\n",
              "      <td>1241325232415105025</td>\n",
              "      <td>.@USER makes major announcement in view of #co...</td>\n",
              "      <td>UNINFORMATIVE</td>\n",
              "    </tr>\n",
              "    <tr>\n",
              "      <th>6932</th>\n",
              "      <td>1235624084089778176</td>\n",
              "      <td>❌QUESTION ... did they receive a Ventilator wh...</td>\n",
              "      <td>INFORMATIVE</td>\n",
              "    </tr>\n",
              "    <tr>\n",
              "      <th>6933</th>\n",
              "      <td>1246018213995044870</td>\n",
              "      <td>CMT will air a special celebrating the life&amp;am...</td>\n",
              "      <td>UNINFORMATIVE</td>\n",
              "    </tr>\n",
              "    <tr>\n",
              "      <th>6934</th>\n",
              "      <td>1239750367329439744</td>\n",
              "      <td>Current 🇮🇩 COVID19 testing procedure only test...</td>\n",
              "      <td>UNINFORMATIVE</td>\n",
              "    </tr>\n",
              "    <tr>\n",
              "      <th>6935</th>\n",
              "      <td>1241528434624327680</td>\n",
              "      <td>A preview of what’s to come, the further the s...</td>\n",
              "      <td>UNINFORMATIVE</td>\n",
              "    </tr>\n",
              "  </tbody>\n",
              "</table>\n",
              "<p>6936 rows × 3 columns</p>\n",
              "</div>"
            ],
            "text/plain": [
              "                       Id  ...          Label\n",
              "0     1241490299215634434  ...    INFORMATIVE\n",
              "1     1245916400981381130  ...    INFORMATIVE\n",
              "2     1241132432402849793  ...    INFORMATIVE\n",
              "3     1236107253666607104  ...    INFORMATIVE\n",
              "4     1239673817552879619  ...  UNINFORMATIVE\n",
              "...                   ...  ...            ...\n",
              "6931  1241325232415105025  ...  UNINFORMATIVE\n",
              "6932  1235624084089778176  ...    INFORMATIVE\n",
              "6933  1246018213995044870  ...  UNINFORMATIVE\n",
              "6934  1239750367329439744  ...  UNINFORMATIVE\n",
              "6935  1241528434624327680  ...  UNINFORMATIVE\n",
              "\n",
              "[6936 rows x 3 columns]"
            ]
          },
          "metadata": {
            "tags": []
          },
          "execution_count": 29
        }
      ]
    },
    {
      "cell_type": "code",
      "metadata": {
        "id": "8PdH3OIFWj0s",
        "colab_type": "code",
        "colab": {
          "base_uri": "https://localhost:8080/",
          "height": 35
        },
        "outputId": "08f03a33-b1a9-4647-917e-f6f0a1bf1684"
      },
      "source": [
        "df1.Text[df1.Text.str.contains(r'http')]"
      ],
      "execution_count": 44,
      "outputs": [
        {
          "output_type": "execute_result",
          "data": {
            "text/plain": [
              "Series([], Name: Text, dtype: object)"
            ]
          },
          "metadata": {
            "tags": []
          },
          "execution_count": 44
        }
      ]
    },
    {
      "cell_type": "code",
      "metadata": {
        "id": "3KkTKmD1WuVS",
        "colab_type": "code",
        "colab": {}
      },
      "source": [
        "df1.Text = df1.Text.str.replace(r'(RT|rt)[ ]*@[ ]*[\\S]+',r'')"
      ],
      "execution_count": 45,
      "outputs": []
    },
    {
      "cell_type": "code",
      "metadata": {
        "id": "_kID5JGlkWN0",
        "colab_type": "code",
        "colab": {}
      },
      "source": [
        "df1.Text = df1.Text.str.replace(r'#\\S\\w*',r'')"
      ],
      "execution_count": 47,
      "outputs": []
    },
    {
      "cell_type": "code",
      "metadata": {
        "id": "BPua04MTevfn",
        "colab_type": "code",
        "colab": {
          "base_uri": "https://localhost:8080/",
          "height": 35
        },
        "outputId": "8109ff2e-0d08-4a35-e268-65736a2cd644"
      },
      "source": [
        "df1.Text[df1.Text.str.contains(r'RT[ ]?@')]"
      ],
      "execution_count": 48,
      "outputs": [
        {
          "output_type": "execute_result",
          "data": {
            "text/plain": [
              "Series([], Name: Text, dtype: object)"
            ]
          },
          "metadata": {
            "tags": []
          },
          "execution_count": 48
        }
      ]
    },
    {
      "cell_type": "code",
      "metadata": {
        "id": "VPHFGCR3e717",
        "colab_type": "code",
        "colab": {}
      },
      "source": [
        "df1.Text = df1.Text.str.replace(r'@[\\S]+',r'')"
      ],
      "execution_count": 49,
      "outputs": []
    },
    {
      "cell_type": "code",
      "metadata": {
        "id": "-oOpI_8YlX2T",
        "colab_type": "code",
        "colab": {
          "base_uri": "https://localhost:8080/",
          "height": 225
        },
        "outputId": "9069607b-75e3-4a04-b64f-04c6520c347d"
      },
      "source": [
        "print(df1.Text)"
      ],
      "execution_count": 50,
      "outputs": [
        {
          "output_type": "stream",
          "text": [
            "0       official death toll from  in the united kingdo...\n",
            "1       dearest mr. president  1,169 coronavirus death...\n",
            "2       latest updates march 20 ⚠️5274 new cases and 3...\n",
            "3       真把公主不当干部 breaking: 21 people on grand princess...\n",
            "4       oklahoma city — the state department of educat...\n",
            "                              ...                        \n",
            "6931    . makes major announcement in view of  outbrea...\n",
            "6932    ❌question ... did they receive a ventilator wh...\n",
            "6933    cmt will air a special celebrating the life&am...\n",
            "6934    current 🇮🇩 covid19 testing procedure only test...\n",
            "6935    a preview of what’s to come, the further the s...\n",
            "Name: Text, Length: 6936, dtype: object\n"
          ],
          "name": "stdout"
        }
      ]
    },
    {
      "cell_type": "code",
      "metadata": {
        "id": "EfqVarGilug4",
        "colab_type": "code",
        "colab": {
          "base_uri": "https://localhost:8080/",
          "height": 225
        },
        "outputId": "e27c9eaf-6ab1-456c-9f0c-b0a039d42ab4"
      },
      "source": [
        "print(dft1)"
      ],
      "execution_count": 53,
      "outputs": [
        {
          "output_type": "stream",
          "text": [
            "0       official death toll from  in the united kingdo...\n",
            "1       dearest mr. president  1,169 coronavirus death...\n",
            "2       latest updates march 20 ⚠️5274 new cases and 3...\n",
            "3       真把公主不当干部 breaking: 21 people on grand princess...\n",
            "4       oklahoma city — the state department of educat...\n",
            "                              ...                        \n",
            "6931    . makes major announcement in view of  outbrea...\n",
            "6932    ❌question ... did they receive a ventilator wh...\n",
            "6933    cmt will air a special celebrating the life&am...\n",
            "6934    current 🇮🇩 covid19 testing procedure only test...\n",
            "6935    a preview of what’s to come, the further the s...\n",
            "Name: Text, Length: 6936, dtype: object\n"
          ],
          "name": "stdout"
        }
      ]
    },
    {
      "cell_type": "code",
      "metadata": {
        "id": "56K6EhPTl7Vy",
        "colab_type": "code",
        "colab": {
          "base_uri": "https://localhost:8080/",
          "height": 55
        },
        "outputId": "a39fb3ad-0b37-40db-e0ac-d7ad92556148"
      },
      "source": [
        "print(dft1[0])"
      ],
      "execution_count": 52,
      "outputs": [
        {
          "output_type": "stream",
          "text": [
            "official death toll from  in the united kingdom is now greater than: germany + poland + switzerland + austria + portugal + greece + sweden + finland + norway + ireland... combined. uk: 67.5 million (233 dead) above group: 185 million (230 dead) \n"
          ],
          "name": "stdout"
        }
      ]
    },
    {
      "cell_type": "code",
      "metadata": {
        "id": "Q8cCY2JIieaA",
        "colab_type": "code",
        "colab": {}
      },
      "source": [
        "\n",
        "dft1 = df1[\"Text\"]\n",
        "count = dft1.count()\n"
      ],
      "execution_count": 60,
      "outputs": []
    },
    {
      "cell_type": "code",
      "metadata": {
        "id": "w3KkbifftsMy",
        "colab_type": "code",
        "colab": {}
      },
      "source": [
        "texts = []\n",
        "for i in range (0,count):\n",
        "  texts.append(dft1[i])\n",
        "  "
      ],
      "execution_count": 62,
      "outputs": []
    },
    {
      "cell_type": "code",
      "metadata": {
        "id": "iJo7R2eg7vP_",
        "colab_type": "code",
        "colab": {}
      },
      "source": [
        "def remove_non_ascii_1(text):\n",
        "\n",
        "    return ''.join(i for i in text if ord(i)<128)"
      ],
      "execution_count": 63,
      "outputs": []
    },
    {
      "cell_type": "code",
      "metadata": {
        "id": "RUdRhtRL8ciZ",
        "colab_type": "code",
        "colab": {}
      },
      "source": [
        "import re\n",
        "def remove_non_ascii_2(text):\n",
        "\n",
        "    return re.sub(\"(\\\\d|\\\\W)+\",\" \",text)"
      ],
      "execution_count": 75,
      "outputs": []
    },
    {
      "cell_type": "code",
      "metadata": {
        "id": "BkcUBTw67xGl",
        "colab_type": "code",
        "colab": {
          "base_uri": "https://localhost:8080/",
          "height": 55
        },
        "outputId": "531d8754-6bda-4e74-a215-ed2660bc1ca1"
      },
      "source": [
        "remove_non_ascii_2(texts[3])\n",
        "print(texts[3])"
      ],
      "execution_count": 76,
      "outputs": [
        {
          "output_type": "stream",
          "text": [
            "真把公主不当干部 breaking: 21 people on grand princess cruise ship docked off the california coast tested positive for coronavirus, including 19 crew members and two passengers, vice pres. mike pence says. 24 people tested negative.  \n"
          ],
          "name": "stdout"
        }
      ]
    },
    {
      "cell_type": "code",
      "metadata": {
        "id": "uTMGMLqViEZ3",
        "colab_type": "code",
        "colab": {
          "base_uri": "https://localhost:8080/",
          "height": 260
        },
        "outputId": "5a4d907a-70b8-49ab-b00b-d98808bdc29b"
      },
      "source": [
        "df1.head"
      ],
      "execution_count": 23,
      "outputs": [
        {
          "output_type": "execute_result",
          "data": {
            "text/plain": [
              "<bound method NDFrame.head of                        Id  ...          Label\n",
              "0     1241490299215634434  ...    INFORMATIVE\n",
              "1     1245916400981381130  ...    INFORMATIVE\n",
              "2     1241132432402849793  ...    INFORMATIVE\n",
              "3     1236107253666607104  ...    INFORMATIVE\n",
              "4     1239673817552879619  ...  UNINFORMATIVE\n",
              "...                   ...  ...            ...\n",
              "6931  1241325232415105025  ...  UNINFORMATIVE\n",
              "6932  1235624084089778176  ...    INFORMATIVE\n",
              "6933  1246018213995044870  ...  UNINFORMATIVE\n",
              "6934  1239750367329439744  ...  UNINFORMATIVE\n",
              "6935  1241528434624327680  ...  UNINFORMATIVE\n",
              "\n",
              "[6936 rows x 3 columns]>"
            ]
          },
          "metadata": {
            "tags": []
          },
          "execution_count": 23
        }
      ]
    },
    {
      "cell_type": "markdown",
      "metadata": {
        "id": "lNjuK-2z7988",
        "colab_type": "text"
      },
      "source": [
        ""
      ]
    },
    {
      "cell_type": "markdown",
      "metadata": {
        "id": "S-3qF9Z0hwsG",
        "colab_type": "text"
      },
      "source": [
        ""
      ]
    },
    {
      "cell_type": "code",
      "metadata": {
        "id": "HUlqK51mfw1o",
        "colab_type": "code",
        "colab": {}
      },
      "source": [
        "df1.ProcessedText = [''.join([i if ord(i) < 128 else '' for i in text]) for text in df1.ProcessedText]\n"
      ],
      "execution_count": 13,
      "outputs": []
    },
    {
      "cell_type": "code",
      "metadata": {
        "id": "-wglBRb4f2Sh",
        "colab_type": "code",
        "colab": {}
      },
      "source": [
        "df1.ProcessedText = df1.ProcessedText.str.replace(r'_[\\S]?',r'')"
      ],
      "execution_count": 22,
      "outputs": []
    },
    {
      "cell_type": "code",
      "metadata": {
        "id": "j3J19h9qh2HG",
        "colab_type": "code",
        "colab": {
          "base_uri": "https://localhost:8080/",
          "height": 55
        },
        "outputId": "0a982091-196f-43e5-a4f3-dcca4826705a"
      },
      "source": [
        "print(texts[0])"
      ],
      "execution_count": 6,
      "outputs": [
        {
          "output_type": "stream",
          "text": [
            "Official death toll from #covid19 in the United Kingdom is now GREATER than: Germany + Poland + Switzerland + Austria + Portugal + Greece + Sweden + Finland + Norway + Ireland... COMBINED. UK: 67.5 Million (233 dead) Above group: 185 Million (230 dead) HTTPURL\n"
          ],
          "name": "stdout"
        }
      ]
    },
    {
      "cell_type": "code",
      "metadata": {
        "id": "0aEnB-Pt3zfe",
        "colab_type": "code",
        "colab": {}
      },
      "source": [
        "MAX_NB_WORDS = 40000\n",
        "MAX_SEQUENCE_LENGTH = 500"
      ],
      "execution_count": 77,
      "outputs": []
    },
    {
      "cell_type": "code",
      "metadata": {
        "id": "ilSuywCIz7Cb",
        "colab_type": "code",
        "colab": {
          "base_uri": "https://localhost:8080/",
          "height": 89
        },
        "outputId": "4c739b79-51b7-40ed-81c2-7641ee6c2922"
      },
      "source": [
        "from keras.preprocessing.text import Tokenizer\n",
        "from keras.preprocessing.sequence import pad_sequences\n",
        "\n",
        "tokenizer = Tokenizer(nb_words=MAX_NB_WORDS)\n",
        "tokenizer.fit_on_texts(texts)\n",
        "sequences = tokenizer.texts_to_sequences(texts)\n",
        "\n",
        "word_index = tokenizer.word_index\n",
        "print('Found %s unique tokens.' % len(word_index))\n",
        "\n",
        "data = pad_sequences(sequences, maxlen=MAX_SEQUENCE_LENGTH)\n"
      ],
      "execution_count": 78,
      "outputs": [
        {
          "output_type": "stream",
          "text": [
            "/usr/local/lib/python3.6/dist-packages/keras_preprocessing/text.py:180: UserWarning: The `nb_words` argument in `Tokenizer` has been renamed `num_words`.\n",
            "  warnings.warn('The `nb_words` argument in `Tokenizer` '\n"
          ],
          "name": "stderr"
        },
        {
          "output_type": "stream",
          "text": [
            "Found 20732 unique tokens.\n"
          ],
          "name": "stdout"
        }
      ]
    },
    {
      "cell_type": "code",
      "metadata": {
        "id": "yNpvUbRwhL3R",
        "colab_type": "code",
        "colab": {}
      },
      "source": [
        "from sklearn.preprocessing import LabelEncoder\n",
        "le = LabelEncoder()\n",
        "\n",
        "y = le.fit_transform(train_text.Label)"
      ],
      "execution_count": 79,
      "outputs": []
    },
    {
      "cell_type": "code",
      "metadata": {
        "id": "P7uPM8rAjEB4",
        "colab_type": "code",
        "colab": {}
      },
      "source": [
        "from keras.utils import to_categorical\n",
        "import numpy as np\n",
        "y = to_categorical(np.asarray(y))"
      ],
      "execution_count": 80,
      "outputs": []
    },
    {
      "cell_type": "code",
      "metadata": {
        "id": "mrUUqLgPhPIw",
        "colab_type": "code",
        "colab": {}
      },
      "source": [
        "from sklearn.model_selection import train_test_split\n",
        "X_train, X_test, y_train, y_test = train_test_split(data, y, test_size=0.2, random_state = 40)\n",
        "\n",
        "[nSamp,inpShape] = X_train.shape"
      ],
      "execution_count": 81,
      "outputs": []
    },
    {
      "cell_type": "code",
      "metadata": {
        "id": "ctOixf0yhSUJ",
        "colab_type": "code",
        "colab": {
          "base_uri": "https://localhost:8080/",
          "height": 104
        },
        "outputId": "361c8fcc-43f8-4200-903c-6c0829e04f18"
      },
      "source": [
        "print(\"X train shape \",X_train.shape)\n",
        "print(\"X test shape \",X_test.shape)\n",
        "print(\"y train shape \",y_train.shape)\n",
        "print(\"y test shape \",y_test.shape)\n",
        "\n",
        "print(nSamp,inpShape)"
      ],
      "execution_count": 82,
      "outputs": [
        {
          "output_type": "stream",
          "text": [
            "X train shape  (5548, 500)\n",
            "X test shape  (1388, 500)\n",
            "y train shape  (5548, 2)\n",
            "y test shape  (1388, 2)\n",
            "5548 500\n"
          ],
          "name": "stdout"
        }
      ]
    },
    {
      "cell_type": "code",
      "metadata": {
        "id": "TGzHXDf57Jji",
        "colab_type": "code",
        "colab": {
          "base_uri": "https://localhost:8080/",
          "height": 52
        },
        "outputId": "5c8af3dc-7af6-4503-c614-a663f1c0a65a"
      },
      "source": [
        "import numpy as np\n",
        "# load the whole embedding into memory\n",
        "embeddings_index = dict()\n",
        "f = open('./glove.6B.100d.txt')\n",
        "for line in f:\n",
        "\tvalues = line.split()\n",
        "\tword = values[0]\n",
        "\tcoefs = np.asarray(values[1:], dtype='float32')\n",
        "\tembeddings_index[word] = coefs\n",
        "f.close()\n",
        "print('Loaded %s word vectors.' % len(embeddings_index))\n",
        "\n",
        "vocab = tokenizer.sequences_to_texts(texts)\n",
        "\n",
        "# Adding 1 because of reserved 0 index\n",
        "vocab_size = len(tokenizer.word_index) + 1\n",
        "\n",
        "print (vocab_size)\n",
        "\n",
        "# create a weight matrix for words in training docs\n",
        "embedding_matrix = np.zeros((vocab_size, 100))\n",
        "\n",
        "\n",
        "for word, i in tokenizer.word_index.items():\n",
        "\tembedding_vector = embeddings_index.get(word)\n",
        "\tif embedding_vector is not None:\n",
        "\t\tembedding_matrix[i] = embedding_vector"
      ],
      "execution_count": 83,
      "outputs": [
        {
          "output_type": "stream",
          "text": [
            "Loaded 400000 word vectors.\n",
            "20733\n"
          ],
          "name": "stdout"
        }
      ]
    },
    {
      "cell_type": "code",
      "metadata": {
        "id": "p2Yrpay28tgP",
        "colab_type": "code",
        "colab": {}
      },
      "source": [
        "#Import the embedding layer\n",
        "from keras.models import Sequential,Model\n",
        "from keras.layers import Dense,Dropout,Activation\n",
        "from keras.layers import Flatten,Input\n",
        "from keras.layers import Embedding\n",
        "from keras.layers import concatenate\n",
        "from keras.utils import to_categorical\n",
        "from keras.layers.recurrent import LSTM\n",
        "from keras.layers.wrappers import Bidirectional\n",
        "\n",
        "from IPython.display import SVG\n",
        "#from keras.utils import model_to_dot\n",
        "from keras.utils.vis_utils import model_to_dot"
      ],
      "execution_count": 84,
      "outputs": []
    },
    {
      "cell_type": "code",
      "metadata": {
        "id": "NFvfbi6w91YI",
        "colab_type": "code",
        "colab": {
          "base_uri": "https://localhost:8080/",
          "height": 949
        },
        "outputId": "02c7b749-2505-46d1-80fd-4fd7e8887d81"
      },
      "source": [
        "# Add sequential model\n",
        "fnc_model = Sequential()\n",
        "\n",
        "\n",
        "# Add embedding layer \n",
        "#Input length = 20 sentenses * 20 words / sentense = 400\n",
        "#No of output dimenstions is 100 as we embedded with GloVe 100d\n",
        "Embed_Layer = Embedding(vocab_size, 100, weights=[embedding_matrix], input_length=(MAX_SEQUENCE_LENGTH,), trainable=True)\n",
        "#Embed_Layer_head = Embedding(vocab_size, 100,weights=[embedding_matrix], input_length=(20,), trainable=False )\n",
        "\n",
        "#define Inputs\n",
        "article_input = Input(shape=(MAX_SEQUENCE_LENGTH,),dtype= 'int32',name = 'article_input')\n",
        "#heading_input = Input(shape=(MAX_LEN,),dtype= 'int32',name = 'heading_input')\n",
        "\n",
        "#head_embedding = Embed_Layer(heading_input)\n",
        "\n",
        "article_embedding = Embed_Layer(article_input)\n",
        "\n",
        "\n",
        "#LSTM for article and head\n",
        "#Embedding dimension is 100\n",
        "article_lstm = LSTM(100, dropout=0.2,name='article_lstm',return_state=False)(article_embedding)\n",
        "\n",
        "#encoded_states =[state_h,state_c,x,y]\n",
        "#head_lstm1 = LSTM(100,dropout=0.2,name='head_lstm1',return_state=False)(head_embedding)\n",
        "#head1 = LSTM(100,dropout=0.2,name='head1',return_state=True)\n",
        "#Concatenate the lstm outputs\n",
        "#concat = keras.layers.concatenate([article_lstm,head_lstm1])\n",
        "\n",
        "output_size = 2\n",
        "#Add a dense layer over concatinated layer\n",
        "#article_d = Dense(100,activation='relu')(article_lstm)\n",
        "#head_d = Dense(100,activation='relu')(head_lstm1)\n",
        "\n",
        "\n",
        "#concat = keras.layers.concatenate(article_d, head_d)\n",
        "dense1 = Dense(100,activation='relu')(article_lstm)\n",
        "predict = Dense(2,activation='softmax')(dense1)\n",
        "\n",
        "fnc_model = Model(inputs=[article_input],outputs=[predict])\n",
        "fnc_model.compile(optimizer='adam',loss='categorical_crossentropy',metrics=['acc'])\n",
        "\n",
        "print(fnc_model.summary())\n",
        "\n",
        "\n",
        "\n",
        "SVG(model_to_dot(fnc_model).create(prog='dot', format='svg'))"
      ],
      "execution_count": 85,
      "outputs": [
        {
          "output_type": "stream",
          "text": [
            "Model: \"functional_1\"\n",
            "_________________________________________________________________\n",
            "Layer (type)                 Output Shape              Param #   \n",
            "=================================================================\n",
            "article_input (InputLayer)   [(None, 500)]             0         \n",
            "_________________________________________________________________\n",
            "embedding (Embedding)        (None, 500, 100)          2073300   \n",
            "_________________________________________________________________\n",
            "article_lstm (LSTM)          (None, 100)               80400     \n",
            "_________________________________________________________________\n",
            "dense (Dense)                (None, 100)               10100     \n",
            "_________________________________________________________________\n",
            "dense_1 (Dense)              (None, 2)                 202       \n",
            "=================================================================\n",
            "Total params: 2,164,002\n",
            "Trainable params: 2,164,002\n",
            "Non-trainable params: 0\n",
            "_________________________________________________________________\n",
            "None\n"
          ],
          "name": "stdout"
        },
        {
          "output_type": "execute_result",
          "data": {
            "text/plain": [
              "<IPython.core.display.SVG object>"
            ],
            "image/svg+xml": "<svg height=\"449pt\" viewBox=\"0.00 0.00 167.00 337.00\" width=\"223pt\" xmlns=\"http://www.w3.org/2000/svg\" xmlns:xlink=\"http://www.w3.org/1999/xlink\">\n<g class=\"graph\" id=\"graph0\" transform=\"scale(1.3333 1.3333) rotate(0) translate(4 333)\">\n<title>G</title>\n<polygon fill=\"#ffffff\" points=\"-4,4 -4,-333 163,-333 163,4 -4,4\" stroke=\"transparent\"/>\n<!-- 140240515844640 -->\n<g class=\"node\" id=\"node1\">\n<title>140240515844640</title>\n<polygon fill=\"none\" points=\"0,-292.5 0,-328.5 159,-328.5 159,-292.5 0,-292.5\" stroke=\"#000000\"/>\n<text fill=\"#000000\" font-family=\"Times,serif\" font-size=\"14.00\" text-anchor=\"middle\" x=\"79.5\" y=\"-306.8\">article_input: InputLayer</text>\n</g>\n<!-- 140240515843800 -->\n<g class=\"node\" id=\"node2\">\n<title>140240515843800</title>\n<polygon fill=\"none\" points=\"1.5,-219.5 1.5,-255.5 157.5,-255.5 157.5,-219.5 1.5,-219.5\" stroke=\"#000000\"/>\n<text fill=\"#000000\" font-family=\"Times,serif\" font-size=\"14.00\" text-anchor=\"middle\" x=\"79.5\" y=\"-233.8\">embedding: Embedding</text>\n</g>\n<!-- 140240515844640&#45;&gt;140240515843800 -->\n<g class=\"edge\" id=\"edge1\">\n<title>140240515844640-&gt;140240515843800</title>\n<path d=\"M79.5,-292.4551C79.5,-284.3828 79.5,-274.6764 79.5,-265.6817\" fill=\"none\" stroke=\"#000000\"/>\n<polygon fill=\"#000000\" points=\"83.0001,-265.5903 79.5,-255.5904 76.0001,-265.5904 83.0001,-265.5903\" stroke=\"#000000\"/>\n</g>\n<!-- 140240515845816 -->\n<g class=\"node\" id=\"node3\">\n<title>140240515845816</title>\n<polygon fill=\"none\" points=\"15.5,-146.5 15.5,-182.5 143.5,-182.5 143.5,-146.5 15.5,-146.5\" stroke=\"#000000\"/>\n<text fill=\"#000000\" font-family=\"Times,serif\" font-size=\"14.00\" text-anchor=\"middle\" x=\"79.5\" y=\"-160.8\">article_lstm: LSTM</text>\n</g>\n<!-- 140240515843800&#45;&gt;140240515845816 -->\n<g class=\"edge\" id=\"edge2\">\n<title>140240515843800-&gt;140240515845816</title>\n<path d=\"M79.5,-219.4551C79.5,-211.3828 79.5,-201.6764 79.5,-192.6817\" fill=\"none\" stroke=\"#000000\"/>\n<polygon fill=\"#000000\" points=\"83.0001,-192.5903 79.5,-182.5904 76.0001,-192.5904 83.0001,-192.5903\" stroke=\"#000000\"/>\n</g>\n<!-- 140240515448000 -->\n<g class=\"node\" id=\"node4\">\n<title>140240515448000</title>\n<polygon fill=\"none\" points=\"33.5,-73.5 33.5,-109.5 125.5,-109.5 125.5,-73.5 33.5,-73.5\" stroke=\"#000000\"/>\n<text fill=\"#000000\" font-family=\"Times,serif\" font-size=\"14.00\" text-anchor=\"middle\" x=\"79.5\" y=\"-87.8\">dense: Dense</text>\n</g>\n<!-- 140240515845816&#45;&gt;140240515448000 -->\n<g class=\"edge\" id=\"edge3\">\n<title>140240515845816-&gt;140240515448000</title>\n<path d=\"M79.5,-146.4551C79.5,-138.3828 79.5,-128.6764 79.5,-119.6817\" fill=\"none\" stroke=\"#000000\"/>\n<polygon fill=\"#000000\" points=\"83.0001,-119.5903 79.5,-109.5904 76.0001,-119.5904 83.0001,-119.5903\" stroke=\"#000000\"/>\n</g>\n<!-- 140240515844696 -->\n<g class=\"node\" id=\"node5\">\n<title>140240515844696</title>\n<polygon fill=\"none\" points=\"26,-.5 26,-36.5 133,-36.5 133,-.5 26,-.5\" stroke=\"#000000\"/>\n<text fill=\"#000000\" font-family=\"Times,serif\" font-size=\"14.00\" text-anchor=\"middle\" x=\"79.5\" y=\"-14.8\">dense_1: Dense</text>\n</g>\n<!-- 140240515448000&#45;&gt;140240515844696 -->\n<g class=\"edge\" id=\"edge4\">\n<title>140240515448000-&gt;140240515844696</title>\n<path d=\"M79.5,-73.4551C79.5,-65.3828 79.5,-55.6764 79.5,-46.6817\" fill=\"none\" stroke=\"#000000\"/>\n<polygon fill=\"#000000\" points=\"83.0001,-46.5903 79.5,-36.5904 76.0001,-46.5904 83.0001,-46.5903\" stroke=\"#000000\"/>\n</g>\n</g>\n</svg>"
          },
          "metadata": {
            "tags": []
          },
          "execution_count": 85
        }
      ]
    },
    {
      "cell_type": "code",
      "metadata": {
        "id": "MFeSQlV5-43a",
        "colab_type": "code",
        "colab": {
          "base_uri": "https://localhost:8080/",
          "height": 208
        },
        "outputId": "6bd59ba4-494e-4e77-91e8-c9c765db5759"
      },
      "source": [
        "fnc_model.fit(X_train,y_train,epochs= 5,batch_size=32,verbose=True,validation_data=(X_test,y_test))"
      ],
      "execution_count": 86,
      "outputs": [
        {
          "output_type": "stream",
          "text": [
            "Epoch 1/5\n",
            "174/174 [==============================] - 79s 452ms/step - loss: 0.5224 - acc: 0.7428 - val_loss: 0.4614 - val_acc: 0.7947\n",
            "Epoch 2/5\n",
            "174/174 [==============================] - 82s 474ms/step - loss: 0.3519 - acc: 0.8562 - val_loss: 0.3259 - val_acc: 0.8559\n",
            "Epoch 3/5\n",
            "174/174 [==============================] - 83s 475ms/step - loss: 0.2526 - acc: 0.9030 - val_loss: 0.2995 - val_acc: 0.8624\n",
            "Epoch 4/5\n",
            "174/174 [==============================] - 83s 478ms/step - loss: 0.1812 - acc: 0.9339 - val_loss: 0.2926 - val_acc: 0.8696\n",
            "Epoch 5/5\n",
            "174/174 [==============================] - 82s 472ms/step - loss: 0.1295 - acc: 0.9524 - val_loss: 0.3349 - val_acc: 0.8646\n"
          ],
          "name": "stdout"
        },
        {
          "output_type": "execute_result",
          "data": {
            "text/plain": [
              "<tensorflow.python.keras.callbacks.History at 0x7f8c43a95a20>"
            ]
          },
          "metadata": {
            "tags": []
          },
          "execution_count": 86
        }
      ]
    },
    {
      "cell_type": "code",
      "metadata": {
        "id": "obF7Z9lBib8T",
        "colab_type": "code",
        "colab": {
          "base_uri": "https://localhost:8080/",
          "height": 949
        },
        "outputId": "96597f42-ea4e-48a1-d585-fd74f4328926"
      },
      "source": [
        "# Add sequential model\n",
        "BiD_model = Sequential()\n",
        "\n",
        "\n",
        "# Add embedding layer \n",
        "#Input length = 20 sentenses * 20 words / sentense = 400\n",
        "#No of output dimenstions is 100 as we embedded with GloVe 100d\n",
        "Embed_Layer = Embedding(vocab_size, 100, weights=[embedding_matrix], input_length=(MAX_SEQUENCE_LENGTH,), trainable=True)\n",
        "#Embed_Layer_head = Embedding(vocab_size, 100,weights=[embedding_matrix], input_length=(20,), trainable=False )\n",
        "\n",
        "#define Inputs\n",
        "article_input = Input(shape=(MAX_SEQUENCE_LENGTH,),dtype= 'int32',name = 'article_input')\n",
        "#heading_input = Input(shape=(MAX_LEN,),dtype= 'int32',name = 'heading_input')\n",
        "\n",
        "#head_embedding = Embed_Layer(heading_input)\n",
        "\n",
        "article_embedding = Embed_Layer(article_input)\n",
        "\n",
        "\n",
        "#LSTM for article and head\n",
        "#Embedding dimension is 100\n",
        "article_lstm = Bidirectional(LSTM(100, dropout=0.2,name='article_lstm',return_state=False))(article_embedding)\n",
        "\n",
        "#encoded_states =[state_h,state_c,x,y]\n",
        "#head_lstm1 = LSTM(100,dropout=0.2,name='head_lstm1',return_state=False)(head_embedding)\n",
        "#head1 = LSTM(100,dropout=0.2,name='head1',return_state=True)\n",
        "#Concatenate the lstm outputs\n",
        "#concat = keras.layers.concatenate([article_lstm,head_lstm1])\n",
        "\n",
        "output_size = 2\n",
        "#Add a dense layer over concatinated layer\n",
        "#article_d = Dense(100,activation='relu')(article_lstm)\n",
        "#head_d = Dense(100,activation='relu')(head_lstm1)\n",
        "\n",
        "\n",
        "#concat = keras.layers.concatenate(article_d, head_d)\n",
        "dense1 = Dense(100,activation='relu')(article_lstm)\n",
        "predict = Dense(2,activation='softmax')(dense1)\n",
        "\n",
        "BiD_model = Model(inputs=[article_input],outputs=[predict])\n",
        "BiD_model.compile(optimizer='adam',loss='categorical_crossentropy',metrics=['acc'])\n",
        "\n",
        "print(BiD_model.summary())\n",
        "\n",
        "\n",
        "\n",
        "SVG(model_to_dot(BiD_model).create(prog='dot', format='svg'))"
      ],
      "execution_count": 14,
      "outputs": [
        {
          "output_type": "stream",
          "text": [
            "Model: \"functional_1\"\n",
            "_________________________________________________________________\n",
            "Layer (type)                 Output Shape              Param #   \n",
            "=================================================================\n",
            "article_input (InputLayer)   [(None, 500)]             0         \n",
            "_________________________________________________________________\n",
            "embedding (Embedding)        (None, 500, 100)          2293600   \n",
            "_________________________________________________________________\n",
            "bidirectional (Bidirectional (None, 200)               160800    \n",
            "_________________________________________________________________\n",
            "dense (Dense)                (None, 100)               20100     \n",
            "_________________________________________________________________\n",
            "dense_1 (Dense)              (None, 2)                 202       \n",
            "=================================================================\n",
            "Total params: 2,474,702\n",
            "Trainable params: 2,474,702\n",
            "Non-trainable params: 0\n",
            "_________________________________________________________________\n",
            "None\n"
          ],
          "name": "stdout"
        },
        {
          "output_type": "execute_result",
          "data": {
            "text/plain": [
              "<IPython.core.display.SVG object>"
            ],
            "image/svg+xml": "<svg height=\"449pt\" viewBox=\"0.00 0.00 299.00 337.00\" width=\"399pt\" xmlns=\"http://www.w3.org/2000/svg\" xmlns:xlink=\"http://www.w3.org/1999/xlink\">\n<g class=\"graph\" id=\"graph0\" transform=\"scale(1.3333 1.3333) rotate(0) translate(4 333)\">\n<title>G</title>\n<polygon fill=\"#ffffff\" points=\"-4,4 -4,-333 295,-333 295,4 -4,4\" stroke=\"transparent\"/>\n<!-- 140047542853704 -->\n<g class=\"node\" id=\"node1\">\n<title>140047542853704</title>\n<polygon fill=\"none\" points=\"66,-292.5 66,-328.5 225,-328.5 225,-292.5 66,-292.5\" stroke=\"#000000\"/>\n<text fill=\"#000000\" font-family=\"Times,serif\" font-size=\"14.00\" text-anchor=\"middle\" x=\"145.5\" y=\"-306.8\">article_input: InputLayer</text>\n</g>\n<!-- 140047542783056 -->\n<g class=\"node\" id=\"node2\">\n<title>140047542783056</title>\n<polygon fill=\"none\" points=\"67.5,-219.5 67.5,-255.5 223.5,-255.5 223.5,-219.5 67.5,-219.5\" stroke=\"#000000\"/>\n<text fill=\"#000000\" font-family=\"Times,serif\" font-size=\"14.00\" text-anchor=\"middle\" x=\"145.5\" y=\"-233.8\">embedding: Embedding</text>\n</g>\n<!-- 140047542853704&#45;&gt;140047542783056 -->\n<g class=\"edge\" id=\"edge1\">\n<title>140047542853704-&gt;140047542783056</title>\n<path d=\"M145.5,-292.4551C145.5,-284.3828 145.5,-274.6764 145.5,-265.6817\" fill=\"none\" stroke=\"#000000\"/>\n<polygon fill=\"#000000\" points=\"149.0001,-265.5903 145.5,-255.5904 142.0001,-265.5904 149.0001,-265.5903\" stroke=\"#000000\"/>\n</g>\n<!-- 140047436546568 -->\n<g class=\"node\" id=\"node3\">\n<title>140047436546568</title>\n<polygon fill=\"none\" points=\"0,-146.5 0,-182.5 291,-182.5 291,-146.5 0,-146.5\" stroke=\"#000000\"/>\n<text fill=\"#000000\" font-family=\"Times,serif\" font-size=\"14.00\" text-anchor=\"middle\" x=\"145.5\" y=\"-160.8\">bidirectional(article_lstm): Bidirectional(LSTM)</text>\n</g>\n<!-- 140047542783056&#45;&gt;140047436546568 -->\n<g class=\"edge\" id=\"edge2\">\n<title>140047542783056-&gt;140047436546568</title>\n<path d=\"M145.5,-219.4551C145.5,-211.3828 145.5,-201.6764 145.5,-192.6817\" fill=\"none\" stroke=\"#000000\"/>\n<polygon fill=\"#000000\" points=\"149.0001,-192.5903 145.5,-182.5904 142.0001,-192.5904 149.0001,-192.5903\" stroke=\"#000000\"/>\n</g>\n<!-- 140047435158976 -->\n<g class=\"node\" id=\"node4\">\n<title>140047435158976</title>\n<polygon fill=\"none\" points=\"99.5,-73.5 99.5,-109.5 191.5,-109.5 191.5,-73.5 99.5,-73.5\" stroke=\"#000000\"/>\n<text fill=\"#000000\" font-family=\"Times,serif\" font-size=\"14.00\" text-anchor=\"middle\" x=\"145.5\" y=\"-87.8\">dense: Dense</text>\n</g>\n<!-- 140047436546568&#45;&gt;140047435158976 -->\n<g class=\"edge\" id=\"edge3\">\n<title>140047436546568-&gt;140047435158976</title>\n<path d=\"M145.5,-146.4551C145.5,-138.3828 145.5,-128.6764 145.5,-119.6817\" fill=\"none\" stroke=\"#000000\"/>\n<polygon fill=\"#000000\" points=\"149.0001,-119.5903 145.5,-109.5904 142.0001,-119.5904 149.0001,-119.5903\" stroke=\"#000000\"/>\n</g>\n<!-- 140047542853760 -->\n<g class=\"node\" id=\"node5\">\n<title>140047542853760</title>\n<polygon fill=\"none\" points=\"92,-.5 92,-36.5 199,-36.5 199,-.5 92,-.5\" stroke=\"#000000\"/>\n<text fill=\"#000000\" font-family=\"Times,serif\" font-size=\"14.00\" text-anchor=\"middle\" x=\"145.5\" y=\"-14.8\">dense_1: Dense</text>\n</g>\n<!-- 140047435158976&#45;&gt;140047542853760 -->\n<g class=\"edge\" id=\"edge4\">\n<title>140047435158976-&gt;140047542853760</title>\n<path d=\"M145.5,-73.4551C145.5,-65.3828 145.5,-55.6764 145.5,-46.6817\" fill=\"none\" stroke=\"#000000\"/>\n<polygon fill=\"#000000\" points=\"149.0001,-46.5903 145.5,-36.5904 142.0001,-46.5904 149.0001,-46.5903\" stroke=\"#000000\"/>\n</g>\n</g>\n</svg>"
          },
          "metadata": {
            "tags": []
          },
          "execution_count": 14
        }
      ]
    },
    {
      "cell_type": "code",
      "metadata": {
        "id": "1IhKtwjui7vW",
        "colab_type": "code",
        "colab": {
          "base_uri": "https://localhost:8080/",
          "height": 208
        },
        "outputId": "3d8dab60-08f1-4e58-ae4e-b87c0a276f9e"
      },
      "source": [
        "BiD_model.fit(X_train,y_train,epochs= 5,batch_size=32,verbose=True,validation_data=(X_test,y_test))"
      ],
      "execution_count": 15,
      "outputs": [
        {
          "output_type": "stream",
          "text": [
            "Epoch 1/5\n",
            "174/174 [==============================] - 149s 857ms/step - loss: 0.5114 - acc: 0.7511 - val_loss: 0.4489 - val_acc: 0.8156\n",
            "Epoch 2/5\n",
            "174/174 [==============================] - 149s 853ms/step - loss: 0.3421 - acc: 0.8578 - val_loss: 0.3160 - val_acc: 0.8631\n",
            "Epoch 3/5\n",
            "174/174 [==============================] - 148s 849ms/step - loss: 0.2479 - acc: 0.9003 - val_loss: 0.2777 - val_acc: 0.8854\n",
            "Epoch 4/5\n",
            "174/174 [==============================] - 148s 852ms/step - loss: 0.1808 - acc: 0.9279 - val_loss: 0.2912 - val_acc: 0.8797\n",
            "Epoch 5/5\n",
            "174/174 [==============================] - 149s 856ms/step - loss: 0.1141 - acc: 0.9605 - val_loss: 0.3972 - val_acc: 0.8710\n"
          ],
          "name": "stdout"
        },
        {
          "output_type": "execute_result",
          "data": {
            "text/plain": [
              "<tensorflow.python.keras.callbacks.History at 0x7f5f557e1a90>"
            ]
          },
          "metadata": {
            "tags": []
          },
          "execution_count": 15
        }
      ]
    },
    {
      "cell_type": "code",
      "metadata": {
        "id": "6jGoaPhIm1Ea",
        "colab_type": "code",
        "colab": {
          "base_uri": "https://localhost:8080/",
          "height": 277
        },
        "outputId": "0088e473-1d5a-4184-d6c5-2a230259f2e0"
      },
      "source": [
        "import os\n",
        "import pandas as pd\n",
        "#Load train bodies\n",
        "val_path = os.path.join(project_path,'valid.tsv')\n",
        "print(val_path)\n",
        "df2 = pd.read_csv(val_path,sep='\\t')\n",
        "#print(val_text.head)\n",
        "#print(train_text.head)\n",
        "df2.columns = ['Id','Text','Label']\n",
        "#df2 = val_text\n",
        "print(df2)\n",
        "val_texts = []\n"
      ],
      "execution_count": 87,
      "outputs": [
        {
          "output_type": "stream",
          "text": [
            "/content/drive/My Drive/DLCP/NLP/covid tweet/valid.tsv\n",
            "                      Id  ...          Label\n",
            "0    1235713405992030209  ...    INFORMATIVE\n",
            "1    1245941302367305728  ...  UNINFORMATIVE\n",
            "2    1245913002840391681  ...  UNINFORMATIVE\n",
            "3    1240543259299987457  ...  UNINFORMATIVE\n",
            "4    1244613970142662662  ...    INFORMATIVE\n",
            "..                   ...  ...            ...\n",
            "994  1245955124222099456  ...  UNINFORMATIVE\n",
            "995  1241768801210904576  ...    INFORMATIVE\n",
            "996  1241172153040502795  ...  UNINFORMATIVE\n",
            "997  1239740620194766848  ...  UNINFORMATIVE\n",
            "998  1236131066596986882  ...    INFORMATIVE\n",
            "\n",
            "[999 rows x 3 columns]\n"
          ],
          "name": "stdout"
        }
      ]
    },
    {
      "cell_type": "code",
      "metadata": {
        "id": "3w-5b_kSBkyt",
        "colab_type": "code",
        "colab": {}
      },
      "source": [
        "df2.Text = df2.Text.str.lower()\n",
        "# Removing http tags\n",
        "df2.Text = df2.Text.str.replace(r'http(\\S)+', r'')\n",
        "df2.Text = df2.Text.str.replace(r'http ...', r'')\n",
        "\n",
        "df2.Text = df2.Text.str.replace(r'(RT|rt)[ ]*@[ ]*[\\S]+',r'')\n",
        "df2.Text = df2.Text.str.replace(r'#\\S\\w*',r'')\n",
        "df2.Text[df2.Text.str.contains(r'RT[ ]?@')]\n",
        "df2.Text = df2.Text.str.replace(r'@[\\S]+',r'')\n",
        "\n",
        "dft2 = df2[\"Text\"]\n",
        "count = dft2.count()\n",
        "val_texts = []\n",
        "for i in range (0,count):\n",
        "  val_texts.append(dft2[i])"
      ],
      "execution_count": 88,
      "outputs": []
    },
    {
      "cell_type": "code",
      "metadata": {
        "id": "1B2S9CVWvaDR",
        "colab_type": "code",
        "colab": {}
      },
      "source": [
        "y_val = le.fit_transform(df2.Label)\n",
        "y_val1 = to_categorical(np.asarray(y_val))"
      ],
      "execution_count": 89,
      "outputs": []
    },
    {
      "cell_type": "code",
      "metadata": {
        "id": "u_M7NY-4swnK",
        "colab_type": "code",
        "colab": {
          "base_uri": "https://localhost:8080/",
          "height": 72
        },
        "outputId": "74c424f2-aa8d-4f9b-d828-b2a2512debf8"
      },
      "source": [
        "tokenizer = Tokenizer(nb_words=MAX_NB_WORDS)\n",
        "tokenizer.fit_on_texts(val_texts)\n",
        "sequences = tokenizer.texts_to_sequences(val_texts)\n",
        "\n",
        "valid_data = pad_sequences(sequences, maxlen=MAX_SEQUENCE_LENGTH)"
      ],
      "execution_count": 90,
      "outputs": [
        {
          "output_type": "stream",
          "text": [
            "/usr/local/lib/python3.6/dist-packages/keras_preprocessing/text.py:180: UserWarning: The `nb_words` argument in `Tokenizer` has been renamed `num_words`.\n",
            "  warnings.warn('The `nb_words` argument in `Tokenizer` '\n"
          ],
          "name": "stderr"
        }
      ]
    },
    {
      "cell_type": "code",
      "metadata": {
        "id": "Lknp9Kztu3Nn",
        "colab_type": "code",
        "colab": {
          "base_uri": "https://localhost:8080/",
          "height": 35
        },
        "outputId": "9895e6b2-ee69-421f-d5f3-0639be7015ac"
      },
      "source": [
        "print(valid_data.shape)"
      ],
      "execution_count": 91,
      "outputs": [
        {
          "output_type": "stream",
          "text": [
            "(999, 500)\n"
          ],
          "name": "stdout"
        }
      ]
    },
    {
      "cell_type": "code",
      "metadata": {
        "id": "HmZqlk7Bhdq8",
        "colab_type": "code",
        "colab": {
          "base_uri": "https://localhost:8080/",
          "height": 52
        },
        "outputId": "3529cbc6-410b-4213-f37f-26c4fcf5881c"
      },
      "source": [
        "fnc_model.evaluate(\n",
        "  valid_data,\n",
        "  y_val1\n",
        ")"
      ],
      "execution_count": 92,
      "outputs": [
        {
          "output_type": "stream",
          "text": [
            "32/32 [==============================] - 3s 83ms/step - loss: 1.1756 - acc: 0.5786\n"
          ],
          "name": "stdout"
        },
        {
          "output_type": "execute_result",
          "data": {
            "text/plain": [
              "[1.175574541091919, 0.5785785913467407]"
            ]
          },
          "metadata": {
            "tags": []
          },
          "execution_count": 92
        }
      ]
    },
    {
      "cell_type": "code",
      "metadata": {
        "id": "As-Dt3YQur99",
        "colab_type": "code",
        "colab": {
          "base_uri": "https://localhost:8080/",
          "height": 35
        },
        "outputId": "d6efe3b2-6c6e-464d-d322-a9fad51800f8"
      },
      "source": [
        "Embedded_val = Embed_Layer(valid_data)\n",
        "print(Embedded_val.shape)"
      ],
      "execution_count": 21,
      "outputs": [
        {
          "output_type": "stream",
          "text": [
            "(999, 500, 100)\n"
          ],
          "name": "stdout"
        }
      ]
    },
    {
      "cell_type": "code",
      "metadata": {
        "id": "haoPvCFthhQS",
        "colab_type": "code",
        "colab": {
          "base_uri": "https://localhost:8080/",
          "height": 52
        },
        "outputId": "10596f7d-1cb2-4afa-ec47-6b47d77c92ce"
      },
      "source": [
        "# Predict on the first 5 test messages.\n",
        "predictions = fnc_model.predict(valid_data[:5])\n",
        "\n",
        "# Print our model's predictions.\n",
        "print(np.argmax(predictions, axis=1)) \n",
        "\n",
        "# Check our predictions against the ground truths.\n",
        "print(y_val[:5]) "
      ],
      "execution_count": 93,
      "outputs": [
        {
          "output_type": "stream",
          "text": [
            "[0 1 1 0 1]\n",
            "[0 1 1 1 0]\n"
          ],
          "name": "stdout"
        }
      ]
    },
    {
      "cell_type": "code",
      "metadata": {
        "id": "o7UFNzVUDhst",
        "colab_type": "code",
        "colab": {
          "base_uri": "https://localhost:8080/",
          "height": 55
        },
        "outputId": "cbb9f30f-6c40-4a1e-91b3-6666dc5f817f"
      },
      "source": [
        "print(val_texts[5])"
      ],
      "execution_count": 96,
      "outputs": [
        {
          "output_type": "stream",
          "text": [
            "cw | coronavirus i can’t see my dad for a week because he’s been in contact with someone who’s son is suspect to have covid-19 and we can’t take any chances of me contracting it because it would kill me but i’m so sad i just wanna hug my dad :(\n"
          ],
          "name": "stdout"
        }
      ]
    },
    {
      "cell_type": "code",
      "metadata": {
        "id": "hADzFjbZhkLj",
        "colab_type": "code",
        "colab": {}
      },
      "source": [
        "print(model_cV.summary())"
      ],
      "execution_count": null,
      "outputs": []
    }
  ]
}